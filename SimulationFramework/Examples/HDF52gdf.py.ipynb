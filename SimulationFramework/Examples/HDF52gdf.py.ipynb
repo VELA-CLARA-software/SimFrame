{
 "cells": [
  {
   "cell_type": "code",
   "execution_count": 1,
   "metadata": {},
   "outputs": [],
   "source": [
    "import sys, os"
   ]
  },
  {
   "cell_type": "code",
   "execution_count": 2,
   "metadata": {},
   "outputs": [],
   "source": [
    "import subprocess"
   ]
  },
  {
   "cell_type": "code",
   "execution_count": 3,
   "metadata": {},
   "outputs": [],
   "source": [
    "sys.path.append(os.path.abspath('../../'))"
   ]
  },
  {
   "cell_type": "code",
   "execution_count": 4,
   "metadata": {},
   "outputs": [
    {
     "data": {
      "text/plain": [
       "['C:\\\\Users\\\\jkj62\\\\Documents\\\\GitHub\\\\OnlineModel\\\\SimulationFramework\\\\Examples',\n",
       " 'c:\\\\users\\\\jkj62\\\\appdata\\\\local\\\\continuum\\\\miniconda3\\\\envs\\\\py3qt4min\\\\python37.zip',\n",
       " 'c:\\\\users\\\\jkj62\\\\appdata\\\\local\\\\continuum\\\\miniconda3\\\\envs\\\\py3qt4min\\\\DLLs',\n",
       " 'c:\\\\users\\\\jkj62\\\\appdata\\\\local\\\\continuum\\\\miniconda3\\\\envs\\\\py3qt4min\\\\lib',\n",
       " 'c:\\\\users\\\\jkj62\\\\appdata\\\\local\\\\continuum\\\\miniconda3\\\\envs\\\\py3qt4min',\n",
       " '',\n",
       " 'c:\\\\users\\\\jkj62\\\\appdata\\\\local\\\\continuum\\\\miniconda3\\\\envs\\\\py3qt4min\\\\lib\\\\site-packages',\n",
       " 'c:\\\\users\\\\jkj62\\\\appdata\\\\local\\\\continuum\\\\miniconda3\\\\envs\\\\py3qt4min\\\\lib\\\\site-packages\\\\win32',\n",
       " 'c:\\\\users\\\\jkj62\\\\appdata\\\\local\\\\continuum\\\\miniconda3\\\\envs\\\\py3qt4min\\\\lib\\\\site-packages\\\\win32\\\\lib',\n",
       " 'c:\\\\users\\\\jkj62\\\\appdata\\\\local\\\\continuum\\\\miniconda3\\\\envs\\\\py3qt4min\\\\lib\\\\site-packages\\\\Pythonwin',\n",
       " 'c:\\\\users\\\\jkj62\\\\appdata\\\\local\\\\continuum\\\\miniconda3\\\\envs\\\\py3qt4min\\\\lib\\\\site-packages\\\\IPython\\\\extensions',\n",
       " 'C:\\\\Users\\\\jkj62\\\\.ipython',\n",
       " 'C:\\\\Users\\\\jkj62\\\\Documents\\\\GitHub\\\\OnlineModel']"
      ]
     },
     "execution_count": 4,
     "metadata": {},
     "output_type": "execute_result"
    }
   ],
   "source": [
    "sys.path"
   ]
  },
  {
   "cell_type": "code",
   "execution_count": 5,
   "metadata": {},
   "outputs": [],
   "source": [
    "import SimulationFramework.Modules.read_beam_file as rbf"
   ]
  },
  {
   "cell_type": "code",
   "execution_count": 6,
   "metadata": {},
   "outputs": [],
   "source": [
    "beam = rbf.beam()"
   ]
  },
  {
   "cell_type": "code",
   "execution_count": 7,
   "metadata": {},
   "outputs": [
    {
     "data": {
      "text/plain": [
       "'C:\\\\Users\\\\jkj62\\\\Documents\\\\GitHub\\\\OnlineModel\\\\SimulationFramework\\\\Examples'"
      ]
     },
     "execution_count": 7,
     "metadata": {},
     "output_type": "execute_result"
    }
   ],
   "source": [
    "os.getcwd()"
   ]
  },
  {
   "cell_type": "code",
   "execution_count": 8,
   "metadata": {},
   "outputs": [],
   "source": [
    "beam.read_HDF5_beam_file(r'\\\\apclara1\\jkj62\\Github\\OnlineModel\\SimulationFramework\\Examples\\CLARA_FE\\CLARA_FE_Gaussian\\SC_CSR\\TOMP_SC_CSR_4_70\\CLA-S02-APER-03.hdf5')"
   ]
  },
  {
   "cell_type": "code",
   "execution_count": 35,
   "metadata": {},
   "outputs": [],
   "source": [
    "beamfilename=r'C:\\Users\\jkj62\\Dropbox\\Work\\VHEE\\GPT\\MinE_70pC\\CLA-S02-APER-03.txt'"
   ]
  },
  {
   "cell_type": "code",
   "execution_count": 36,
   "metadata": {},
   "outputs": [],
   "source": [
    "gdfbeamfilename=beamfilename.replace('.txt','.gdf')"
   ]
  },
  {
   "cell_type": "code",
   "execution_count": 37,
   "metadata": {},
   "outputs": [],
   "source": [
    "beam.write_gdf_beam_file(beamfilename.replace('.txt','_normalised.txt'), normaliseZ=True)"
   ]
  },
  {
   "cell_type": "code",
   "execution_count": 38,
   "metadata": {},
   "outputs": [
    {
     "data": {
      "text/plain": [
       "0"
      ]
     },
     "execution_count": 38,
     "metadata": {},
     "output_type": "execute_result"
    }
   ],
   "source": [
    "subprocess.call([r'C:\\Program Files\\General Particle Tracer\\bin\\asci2gdf', '-o', gdfbeamfilename.replace('.gdf','_normalised.gdf'), beamfilename.replace('.txt','_normalised.txt')])"
   ]
  },
  {
   "cell_type": "code",
   "execution_count": 39,
   "metadata": {},
   "outputs": [],
   "source": [
    "beam.write_gdf_beam_file(beamfilename, normaliseZ=False)"
   ]
  },
  {
   "cell_type": "code",
   "execution_count": 40,
   "metadata": {},
   "outputs": [
    {
     "data": {
      "text/plain": [
       "0"
      ]
     },
     "execution_count": 40,
     "metadata": {},
     "output_type": "execute_result"
    }
   ],
   "source": [
    "subprocess.call([r'C:\\Program Files\\General Particle Tracer\\bin\\asci2gdf', '-o', gdfbeamfilename, beamfilename])"
   ]
  },
  {
   "cell_type": "code",
   "execution_count": 43,
   "metadata": {},
   "outputs": [
    {
     "data": {
      "text/plain": [
       "1.204208131999707e-06"
      ]
     },
     "execution_count": 43,
     "metadata": {},
     "output_type": "execute_result"
    }
   ],
   "source": [
    "beam.normalized_horizontal_emittance"
   ]
  },
  {
   "cell_type": "code",
   "execution_count": 44,
   "metadata": {},
   "outputs": [
    {
     "data": {
      "text/plain": [
       "0.9254585219565472"
      ]
     },
     "execution_count": 44,
     "metadata": {},
     "output_type": "execute_result"
    }
   ],
   "source": [
    "beam.beta_x"
   ]
  },
  {
   "cell_type": "code",
   "execution_count": 45,
   "metadata": {},
   "outputs": [
    {
     "data": {
      "text/plain": [
       "0.9514376096782813"
      ]
     },
     "execution_count": 45,
     "metadata": {},
     "output_type": "execute_result"
    }
   ],
   "source": [
    "beam.beta_y"
   ]
  },
  {
   "cell_type": "code",
   "execution_count": 46,
   "metadata": {},
   "outputs": [
    {
     "data": {
      "text/plain": [
       "0.9234530177489929"
      ]
     },
     "execution_count": 46,
     "metadata": {},
     "output_type": "execute_result"
    }
   ],
   "source": [
    "beam.alpha_x"
   ]
  },
  {
   "cell_type": "code",
   "execution_count": 47,
   "metadata": {},
   "outputs": [
    {
     "data": {
      "text/plain": [
       "0.9495343091984514"
      ]
     },
     "execution_count": 47,
     "metadata": {},
     "output_type": "execute_result"
    }
   ],
   "source": [
    "beam.alpha_y"
   ]
  },
  {
   "cell_type": "code",
   "execution_count": 49,
   "metadata": {},
   "outputs": [
    {
     "data": {
      "text/plain": [
       "2.33492"
      ]
     },
     "execution_count": 49,
     "metadata": {},
     "output_type": "execute_result"
    }
   ],
   "source": [
    "3.3356*0.035*20"
   ]
  },
  {
   "cell_type": "code",
   "execution_count": null,
   "metadata": {},
   "outputs": [],
   "source": []
  }
 ],
 "metadata": {
  "kernelspec": {
   "display_name": "Python 3",
   "language": "python",
   "name": "python3"
  },
  "language_info": {
   "codemirror_mode": {
    "name": "ipython",
    "version": 3
   },
   "file_extension": ".py",
   "mimetype": "text/x-python",
   "name": "python",
   "nbconvert_exporter": "python",
   "pygments_lexer": "ipython3",
   "version": "3.7.0"
  }
 },
 "nbformat": 4,
 "nbformat_minor": 2
}
