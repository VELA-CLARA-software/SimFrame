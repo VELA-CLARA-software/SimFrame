{
 "cells": [
  {
   "cell_type": "code",
   "execution_count": 1,
   "metadata": {},
   "outputs": [],
   "source": [
    "# Useful for debugging\n",
    "%load_ext autoreload\n",
    "%autoreload 2"
   ]
  },
  {
   "cell_type": "code",
   "execution_count": 2,
   "metadata": {},
   "outputs": [],
   "source": [
    "import sys\n",
    "import numpy as np"
   ]
  },
  {
   "cell_type": "code",
   "execution_count": 3,
   "metadata": {},
   "outputs": [],
   "source": [
    "sys.path.append('../../')"
   ]
  },
  {
   "cell_type": "code",
   "execution_count": 4,
   "metadata": {},
   "outputs": [],
   "source": [
    "import SimulationFramework.Framework as fw"
   ]
  },
  {
   "cell_type": "code",
   "execution_count": 5,
   "metadata": {},
   "outputs": [],
   "source": [
    "basedir=r'C:\\Users\\jkj62\\Documents\\GitHub\\ASTRA_COMPARISONRunner-HMCC\\dist\\output\\SimulationDatabase'\n",
    "dir='e54d6753-a8b7-43e5-9be7-af52aa8180f1'\n",
    "fwdir = fw.load_directory(basedir+'/'+dir, beams=True)"
   ]
  },
  {
   "cell_type": "markdown",
   "metadata": {},
   "source": [
    "# Needs fastKDE\n",
    "pip install cython, fastkde"
   ]
  },
  {
   "cell_type": "code",
   "execution_count": 6,
   "metadata": {},
   "outputs": [],
   "source": [
    "from fastkde import fastKDE\n",
    "import matplotlib.pyplot as plt"
   ]
  },
  {
   "cell_type": "code",
   "execution_count": 7,
   "metadata": {},
   "outputs": [],
   "source": [
    "def plotScreenImage(beam, scale=1, colormap=plt.cm.jet):\n",
    "    #Do the self-consistent density estimate\n",
    "    myPDF,axes = fastKDE.pdf(1e3*(beam.x-np.mean(beam.x)),1e3*(beam.y-np.mean(beam.y)))\n",
    "    v1,v2 = axes\n",
    "    myPDF=myPDF/myPDF.max()*scale\n",
    "\n",
    "    fig, ax = plt.subplots()\n",
    "    ax.set_aspect(1)\n",
    "    #ax.xaxis.set_visible(False)\n",
    "    #ax.yaxis.set_visible(False)\n",
    "    draw_circle = plt.Circle((0,0), 1e3*0.015, fill=True, ec='w', fc=colormap(0), zorder=-1)\n",
    "    ax.add_artist(draw_circle)\n",
    "    ax.set_facecolor('k')\n",
    "    plt.pcolormesh(v1,v2,myPDF, cmap=colormap, shading='auto', vmax=1);\n",
    "    ax.set_xlim([1e3*-0.016, 1e3*0.016])\n",
    "    ax.set_ylim([1e3*-0.016, 1e3*0.016])\n",
    "    plt.show()"
   ]
  },
  {
   "cell_type": "code",
   "execution_count": 8,
   "metadata": {
    "scrolled": true
   },
   "outputs": [
    {
     "data": {
      "image/png": "[encoded data removed]",
      "text/plain": [
       "<Figure size 432x288 with 1 Axes>"
      ]
     },
     "metadata": {
      "needs_background": "light"
     },
     "output_type": "display_data"
    }
   ],
   "source": [
    "plotScreenImage(fwdir.beams.getScreen('CLA-C2V-DIA-SCR-01'), scale=1, colormap=plt.cm.gray)"
   ]
  }
 ],
 "metadata": {
  "kernelspec": {
   "display_name": "Python 3",
   "language": "python",
   "name": "python3"
  },
  "language_info": {
   "codemirror_mode": {
    "name": "ipython",
    "version": 3
   },
   "file_extension": ".py",
   "mimetype": "text/x-python",
   "name": "python",
   "nbconvert_exporter": "python",
   "pygments_lexer": "ipython3",
   "version": "3.7.7"
  }
 },
 "nbformat": 4,
 "nbformat_minor": 4
}
